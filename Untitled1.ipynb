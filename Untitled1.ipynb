{
 "cells": [
  {
   "cell_type": "code",
   "execution_count": 1,
   "id": "074b0677-45a9-4699-9541-57af5e6711b1",
   "metadata": {},
   "outputs": [],
   "source": [
    "import pandas as pd\n"
   ]
  },
  {
   "cell_type": "code",
   "execution_count": 14,
   "id": "1341e926-ee46-404d-966d-3900c97d9780",
   "metadata": {},
   "outputs": [],
   "source": [
    "df_vis = pd.read_csv(\"visits_1k.csv\")\n",
    "df_regs = pd.read_csv(\"regs_1k.csv\")"
   ]
  },
  {
   "cell_type": "code",
   "execution_count": 19,
   "id": "680ce0a7-04cc-4917-bab7-4068841c6371",
   "metadata": {
    "scrolled": true
   },
   "outputs": [
    {
     "name": "stdout",
     "output_type": "stream",
     "text": [
      "                                        uuid platform  \\\n",
      "count                                   1000     1000   \n",
      "unique                                   519        3   \n",
      "top     4ac5e7fb-052b-47d0-845e-6cef973ef46b      web   \n",
      "freq                                       4      954   \n",
      "\n",
      "                                               user_agent                 date  \n",
      "count                                                1000                 1000  \n",
      "unique                                                 28                  996  \n",
      "top     Mozilla/5.0 (Windows NT 10.0; Win64; x64) Appl...  2023-03-01T08:01:45  \n",
      "freq                                                   71                    2  \n",
      "       user_id\n",
      "count     1000\n",
      "mean   4488623\n",
      "std    2620568\n",
      "min      22368\n",
      "25%    2235489\n",
      "50%    4473044\n",
      "75%    6779707\n",
      "max    8881772\n"
     ]
    }
   ],
   "source": [
    "with pd.option_context('display.float_format', '{:.0f}'.format):\n",
    "    print(df_vis.describe())\n",
    "    print(df_regs.describe())"
   ]
  },
  {
   "cell_type": "code",
   "execution_count": null,
   "id": "7059459d-4281-44b2-8e7c-e25ab3ab922f",
   "metadata": {},
   "outputs": [],
   "source": []
  }
 ],
 "metadata": {
  "kernelspec": {
   "display_name": "Python [conda env:base] *",
   "language": "python",
   "name": "conda-base-py"
  },
  "language_info": {
   "codemirror_mode": {
    "name": "ipython",
    "version": 3
   },
   "file_extension": ".py",
   "mimetype": "text/x-python",
   "name": "python",
   "nbconvert_exporter": "python",
   "pygments_lexer": "ipython3",
   "version": "3.13.5"
  }
 },
 "nbformat": 4,
 "nbformat_minor": 5
}
